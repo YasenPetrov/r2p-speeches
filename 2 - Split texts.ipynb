{
 "cells": [
  {
   "cell_type": "code",
   "execution_count": 1,
   "metadata": {},
   "outputs": [],
   "source": [
    "import os\n",
    "import shutil\n",
    "import re\n",
    "\n",
    "import pandas as pd"
   ]
  },
  {
   "cell_type": "markdown",
   "metadata": {},
   "source": [
    "# Setup"
   ]
  },
  {
   "cell_type": "code",
   "execution_count": 2,
   "metadata": {},
   "outputs": [],
   "source": [
    "MAIN_DIR = \".\"\n",
    "DATA_DIR = os.path.join(MAIN_DIR, \"data\")\n",
    "\n",
    "# Where we will store data from all sources after combining it\n",
    "ALL_DATA_DIR = os.path.join(DATA_DIR, \"combined\")\n",
    "# This will hold the converted versions of the PDF documents\n",
    "TEXT_FILES_DIR = os.path.join(ALL_DATA_DIR, \"text_files\")\n",
    "# This will hold the text files but split by paragraphs and then joined back with special delimiters\n",
    "SPLIT_TEXT_FILES_DIR = os.path.join(ALL_DATA_DIR, \"text_files_split\")\n",
    "\n",
    "if os.path.exists(SPLIT_TEXT_FILES_DIR):\n",
    "    shutil.rmtree(SPLIT_TEXT_FILES_DIR)\n",
    "os.makedirs(SPLIT_TEXT_FILES_DIR)"
   ]
  },
  {
   "cell_type": "markdown",
   "metadata": {},
   "source": [
    "# Read in metadata"
   ]
  },
  {
   "cell_type": "code",
   "execution_count": 3,
   "metadata": {},
   "outputs": [
    {
     "data": {
      "text/html": [
       "<div>\n",
       "<style scoped>\n",
       "    .dataframe tbody tr th:only-of-type {\n",
       "        vertical-align: middle;\n",
       "    }\n",
       "\n",
       "    .dataframe tbody tr th {\n",
       "        vertical-align: top;\n",
       "    }\n",
       "\n",
       "    .dataframe thead th {\n",
       "        text-align: right;\n",
       "    }\n",
       "</style>\n",
       "<table border=\"1\" class=\"dataframe\">\n",
       "  <thead>\n",
       "    <tr style=\"text-align: right;\">\n",
       "      <th></th>\n",
       "      <th>Title</th>\n",
       "      <th>Type</th>\n",
       "      <th>Date</th>\n",
       "      <th>Source</th>\n",
       "      <th>link</th>\n",
       "      <th>scanned</th>\n",
       "    </tr>\n",
       "    <tr>\n",
       "      <th>id</th>\n",
       "      <th></th>\n",
       "      <th></th>\n",
       "      <th></th>\n",
       "      <th></th>\n",
       "      <th></th>\n",
       "      <th></th>\n",
       "    </tr>\n",
       "  </thead>\n",
       "  <tbody>\n",
       "    <tr>\n",
       "      <th>0</th>\n",
       "      <td>Accountability for Perpetrators: UN Officials ...</td>\n",
       "      <td>Official Statement</td>\n",
       "      <td>2019-11-07</td>\n",
       "      <td>UN Special Representative of the Secretary-Gen...</td>\n",
       "      <td>https://www.globalr2p.org/wp-content/uploads/2...</td>\n",
       "      <td>False</td>\n",
       "    </tr>\n",
       "  </tbody>\n",
       "</table>\n",
       "</div>"
      ],
      "text/plain": [
       "                                                Title                Type  \\\n",
       "id                                                                          \n",
       "0   Accountability for Perpetrators: UN Officials ...  Official Statement   \n",
       "\n",
       "         Date                                             Source  \\\n",
       "id                                                                 \n",
       "0  2019-11-07  UN Special Representative of the Secretary-Gen...   \n",
       "\n",
       "                                                 link  scanned  \n",
       "id                                                              \n",
       "0   https://www.globalr2p.org/wp-content/uploads/2...    False  "
      ]
     },
     "execution_count": 3,
     "metadata": {},
     "output_type": "execute_result"
    }
   ],
   "source": [
    "df_speeches = pd.read_csv(os.path.join(ALL_DATA_DIR, \"document_data.csv\"), index_col=\"id\")\n",
    "df_speeches.Date = pd.to_datetime(df_speeches[\"Date\"])\n",
    "df_speeches.head(1)"
   ]
  },
  {
   "cell_type": "markdown",
   "metadata": {},
   "source": [
    "# Split and write new files"
   ]
  },
  {
   "cell_type": "code",
   "execution_count": 4,
   "metadata": {},
   "outputs": [],
   "source": [
    "MIN_PAR_LENGTH_CHARS = 30\n",
    "\n",
    "out_paragraph_delimiter = \"\\n\\n\" + \"=\" * 20 + \"\\n\\n\"\n",
    "\n",
    "\n",
    "for i, filename in enumerate(os.listdir(TEXT_FILES_DIR)):    \n",
    "    doc_id = int(filename.split(\".\")[0])\n",
    "    \n",
    "    with open(os.path.join(TEXT_FILES_DIR, filename), \"r\") as fp:\n",
    "        text = fp.read()\n",
    "    \n",
    "    # Replace parsing artefacts\n",
    "    text = text.replace(\"\\xa0\", \"\").replace(\"\\t\\n\", \"\")\n",
    "    text = re.sub(r\"[ \\t]+\", \" \", text)\n",
    "    \n",
    "    # Split text\n",
    "    paragraphs = tuple(\n",
    "        p for p in re.split('(\\.\\s*\"?”?\\s*\\n)|(;\\n\\n)', text) if p and len(p) >= MIN_PAR_LENGTH_CHARS\n",
    "    )\n",
    "    \n",
    "    # Join back up with special delimiter and write\n",
    "    out_text = out_paragraph_delimiter.join(paragraphs)\n",
    "    with open(os.path.join(SPLIT_TEXT_FILES_DIR, filename), \"w\") as fp:\n",
    "        fp.write(out_text)"
   ]
  }
 ],
 "metadata": {
  "kernelspec": {
   "display_name": "Python 3",
   "language": "python",
   "name": "python3"
  },
  "language_info": {
   "codemirror_mode": {
    "name": "ipython",
    "version": 3
   },
   "file_extension": ".py",
   "mimetype": "text/x-python",
   "name": "python",
   "nbconvert_exporter": "python",
   "pygments_lexer": "ipython3",
   "version": "3.7.4"
  }
 },
 "nbformat": 4,
 "nbformat_minor": 2
}
