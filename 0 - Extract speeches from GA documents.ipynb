{
 "cells": [
  {
   "cell_type": "markdown",
   "metadata": {},
   "source": [
    "# Purpose\n",
    "\n",
    "Extract separate speakers from several UN documents:\n",
    "\n",
    " - https://undocs.org/A/73/PV.93\n",
    " - https://undocs.org/A/73/PV.94\n",
    " - https://undocs.org/A/73/PV.95\n",
    " - https://undocs.org/A/73/PV.96\n",
    " - https://undocs.org/A/73/PV.99\n",
    " - https://undocs.org/A/73/PV.100\n",
    " - https://undocs.org/A/72/PV.105\n",
    " \n",
    "These are all formatted in the same way and have been downloaded to a local directory.\n",
    "\n",
    "This notebook does the following for each document:\n",
    " - Converts it to text using the `pdftotext` utility\n",
    " - Finds the beginning of each statement (They all start with _Mr/Ms/Mrs Somebody (Country):_)\n",
    " - Splits the texts into speeches\n",
    " - Saves the new speeches as separate files"
   ]
  },
  {
   "cell_type": "code",
   "execution_count": 22,
   "metadata": {},
   "outputs": [],
   "source": [
    "import os\n",
    "import re\n",
    "import shutil\n",
    "\n",
    "from collections import defaultdict"
   ]
  },
  {
   "cell_type": "code",
   "execution_count": 23,
   "metadata": {},
   "outputs": [],
   "source": [
    "MAIN_DIR = \".\"\n",
    "DATA_DIR = os.path.join(MAIN_DIR, \"data\")\n",
    "GA_DOCS_DIR = os.path.join(DATA_DIR, \"general_assembly_docs\")\n",
    "PDF_DIR = os.path.join(GA_DOCS_DIR, \"pdf\")\n",
    "TXT_DIR = os.path.join(GA_DOCS_DIR, \"txt\")\n",
    "STATEMENTS_DIR = os.path.join(GA_DOCS_DIR, \"statements\")\n",
    "\n",
    "# Remove any text files from previous runs\n",
    "if os.path.exists(TXT_DIR):\n",
    "    shutil.rmtree(TXT_DIR)\n",
    "os.makedirs(TXT_DIR)\n",
    "\n",
    "if os.path.exists(STATEMENTS_DIR):\n",
    "    shutil.rmtree(STATEMENTS_DIR)\n",
    "os.makedirs(STATEMENTS_DIR)"
   ]
  },
  {
   "cell_type": "markdown",
   "metadata": {},
   "source": [
    "## Convert PDFs to text"
   ]
  },
  {
   "cell_type": "code",
   "execution_count": 24,
   "metadata": {},
   "outputs": [
    {
     "name": "stdout",
     "output_type": "stream",
     "text": [
      "Converting ./data/general_assembly_docs/pdf/A_73_PV.93_E.pdf to ./data/general_assembly_docs/txt/A_73_PV.93_E.txt\n",
      "Converting ./data/general_assembly_docs/pdf/A_72_PV.99_E.pdf to ./data/general_assembly_docs/txt/A_72_PV.99_E.txt\n",
      "Converting ./data/general_assembly_docs/pdf/A_72_PV.105_E.pdf to ./data/general_assembly_docs/txt/A_72_PV.105_E.txt\n",
      "Converting ./data/general_assembly_docs/pdf/A_73_PV.96_E.pdf to ./data/general_assembly_docs/txt/A_73_PV.96_E.txt\n",
      "Converting ./data/general_assembly_docs/pdf/A_72_PV.100_E.pdf to ./data/general_assembly_docs/txt/A_72_PV.100_E.txt\n",
      "Converting ./data/general_assembly_docs/pdf/A_73_PV.94_E.pdf to ./data/general_assembly_docs/txt/A_73_PV.94_E.txt\n",
      "Converting ./data/general_assembly_docs/pdf/A_73_PV.95_E.pdf to ./data/general_assembly_docs/txt/A_73_PV.95_E.txt\n"
     ]
    }
   ],
   "source": [
    "for pdf_filename in os.listdir(PDF_DIR):\n",
    "    text_filename = \".\".join(list(pdf_filename.split(\".\")[:-1]) + [\"txt\"])\n",
    "    \n",
    "    pdf_filepath = os.path.join(PDF_DIR, pdf_filename)\n",
    "    text_filepath = os.path.join(TXT_DIR, text_filename)\n",
    "    \n",
    "    print(f\"Converting {pdf_filepath} to {text_filepath}\")\n",
    "    !pdftotext {pdf_filepath} -x 0 -W 1000 -y 90 -H 635 -nopgbrk {text_filepath} "
   ]
  },
  {
   "cell_type": "markdown",
   "metadata": {},
   "source": [
    "## Extract dates from texts"
   ]
  },
  {
   "cell_type": "code",
   "execution_count": 25,
   "metadata": {},
   "outputs": [
    {
     "data": {
      "text/plain": [
       "{'A_72_PV.105_E.txt': 'monday-2-july-2018-10-am',\n",
       " 'A_73_PV.94_E.txt': 'thursday-27-june-2019-3-pm',\n",
       " 'A_72_PV.99_E.txt': 'monday-25-june-2018-10-am',\n",
       " 'A_73_PV.93_E.txt': 'thursday-27-june-2019-10-am',\n",
       " 'A_73_PV.95_E.txt': 'friday-28-june-2019-10-am',\n",
       " 'A_73_PV.96_E.txt': 'friday-28-june-2019-3-pm',\n",
       " 'A_72_PV.100_E.txt': 'monday-25-june-2018-3-pm'}"
      ]
     },
     "execution_count": 25,
     "metadata": {},
     "output_type": "execute_result"
    }
   ],
   "source": [
    "# Map text file names to dates of documents\n",
    "\n",
    "file_to_date = dict()\n",
    "for filename in os.listdir(TXT_DIR):\n",
    "    filepath = os.path.join(TXT_DIR, filename)\n",
    "    with open(filepath, 'r') as fp:\n",
    "        header = \"\".join(fp.readlines()[:6])\n",
    "        # All headers are formed the same, use that to extract date\n",
    "        ix = header.find(\"plenary meeting\") + 15\n",
    "        date_str = header[ix:].strip().split(\"\\n\")[0].strip()\n",
    "        file_to_date[filename] = date_str\n",
    "\n",
    "# Replace dates with slugs\n",
    "for file, dt in file_to_date.items():\n",
    "    date_slug = \"-\".join(dt.lower().strip().replace(\".\", \"\").replace(\",\", \"\").split())\n",
    "    file_to_date[file] = date_slug\n",
    "\n",
    "file_to_date"
   ]
  },
  {
   "cell_type": "markdown",
   "metadata": {},
   "source": [
    "## Extract speakers and speeches from texts"
   ]
  },
  {
   "cell_type": "markdown",
   "metadata": {},
   "source": [
    "### Find the starting line for every speech"
   ]
  },
  {
   "cell_type": "code",
   "execution_count": 26,
   "metadata": {
    "scrolled": false
   },
   "outputs": [],
   "source": [
    "file_to_matches = defaultdict(lambda: [])\n",
    "\n",
    "for filename in os.listdir(TXT_DIR):\n",
    "    filepath = os.path.join(TXT_DIR, filename)\n",
    "    with open(filepath, 'r') as fp:\n",
    "        # We ignore the first match (this is the chair)\n",
    "        first_match = True\n",
    "        for line_ix, line in enumerate(fp.readlines()):#doc_text.split(\"\\n\")):\n",
    "            match = re.match(r\"(?:Mr.+?|Ms.+?)\\((.*?)\\)\", line)\n",
    "            if match is not None:\n",
    "                if not first_match:\n",
    "                    file_to_matches[filename].append((line_ix, match.groups()[0]))\n",
    "#                     c.update(match.groups())\n",
    "                first_match = False"
   ]
  },
  {
   "cell_type": "markdown",
   "metadata": {},
   "source": [
    "### Split text into statements "
   ]
  },
  {
   "cell_type": "code",
   "execution_count": 27,
   "metadata": {
    "scrolled": false
   },
   "outputs": [],
   "source": [
    "# This will hold a dict from country to speech for every file\n",
    "files_to_statements = dict()\n",
    "\n",
    "for filename in os.listdir(TXT_DIR):\n",
    "    with open(os.path.join(TXT_DIR, filename), \"r\") as fp:\n",
    "        lines = fp.readlines()\n",
    "\n",
    "    statements = defaultdict(lambda: \"\")\n",
    "\n",
    "    matches = file_to_matches[filename]\n",
    "    for (first_line, country), (last_line, _) in zip(matches[:-1], matches[1:]):\n",
    "        statement = \"\".join(lines[first_line:last_line])\n",
    "        # Remove speaker and country from statement\n",
    "        statement = statement[statement.find(\")\") + 2:]\n",
    "        statements[country] += \"\\n\" + statement.strip()\n",
    "\n",
    "    last_start, country = matches[-1]\n",
    "    last_statement = \"\".join(lines[last_start:])\n",
    "    # Remove speaker and country\n",
    "    last_statement = last_statement[last_statement.find(\")\") + 2:]\n",
    "    # There is usually a closing statement from the acting president at the end of the speech: scrap that\n",
    "    last_statement = last_statement[:last_statement.find(\"The Acting President\")]\n",
    "    statements[country] += \"\\n\" + last_statement.strip()\n",
    "    \n",
    "    files_to_statements[filename] = statements"
   ]
  },
  {
   "cell_type": "markdown",
   "metadata": {},
   "source": [
    "# Save statements"
   ]
  },
  {
   "cell_type": "code",
   "execution_count": 28,
   "metadata": {},
   "outputs": [
    {
     "name": "stdout",
     "output_type": "stream",
     "text": [
      "Writing 387 words to ./data/general_assembly_docs/statements/monday-2-july-2018-10-am_Chile.txt\n",
      "Writing 850 words to ./data/general_assembly_docs/statements/monday-2-july-2018-10-am_Luxembourg.txt\n",
      "Writing 788 words to ./data/general_assembly_docs/statements/monday-2-july-2018-10-am_Armenia.txt\n",
      "Writing 1045 words to ./data/general_assembly_docs/statements/monday-2-july-2018-10-am_Russian-Federation.txt\n",
      "Writing 430 words to ./data/general_assembly_docs/statements/monday-2-july-2018-10-am_Libya.txt\n",
      "Writing 746 words to ./data/general_assembly_docs/statements/monday-2-july-2018-10-am_Ecuador.txt\n",
      "Writing 538 words to ./data/general_assembly_docs/statements/monday-2-july-2018-10-am_Indonesia.txt\n",
      "Writing 1606 words to ./data/general_assembly_docs/statements/monday-2-july-2018-10-am_Islamic-Republic-of-Iran.txt\n",
      "Writing 777 words to ./data/general_assembly_docs/statements/monday-2-july-2018-10-am_Myanmar.txt\n",
      "Writing 747 words to ./data/general_assembly_docs/statements/monday-2-july-2018-10-am_Rwanda.txt\n",
      "Writing 750 words to ./data/general_assembly_docs/statements/monday-2-july-2018-10-am_Panama.txt\n",
      "Writing 546 words to ./data/general_assembly_docs/statements/monday-2-july-2018-10-am_Andorra.txt\n",
      "Writing 1112 words to ./data/general_assembly_docs/statements/monday-2-july-2018-10-am_Bangladesh.txt\n",
      "Writing 529 words to ./data/general_assembly_docs/statements/monday-2-july-2018-10-am_Viet-Nam.txt\n",
      "Writing 970 words to ./data/general_assembly_docs/statements/monday-2-july-2018-10-am_Philippines.txt\n",
      "Writing 509 words to ./data/general_assembly_docs/statements/monday-2-july-2018-10-am_Portugal.txt\n",
      "Writing 619 words to ./data/general_assembly_docs/statements/monday-2-july-2018-10-am_Azerbaijan.txt\n",
      "Writing 532 words to ./data/general_assembly_docs/statements/monday-2-july-2018-10-am_Honduras.txt\n",
      "Writing 532 words to ./data/general_assembly_docs/statements/monday-2-july-2018-10-am_Papua-New-Guinea.txt\n",
      "Writing 523 words to ./data/general_assembly_docs/statements/monday-2-july-2018-10-am_China.txt\n",
      "Writing 502 words to ./data/general_assembly_docs/statements/monday-2-july-2018-10-am_San-Marino.txt\n",
      "Writing 1287 words to ./data/general_assembly_docs/statements/monday-2-july-2018-10-am_Albania.txt\n",
      "Writing 603 words to ./data/general_assembly_docs/statements/monday-2-july-2018-10-am_Plurinational-State-of-Bolivia.txt\n",
      "Writing 422 words to ./data/general_assembly_docs/statements/monday-2-july-2018-10-am_Kazakhstan.txt\n",
      "Writing 1074 words to ./data/general_assembly_docs/statements/monday-2-july-2018-10-am_United-Arab-Emirates.txt\n",
      "Writing 462 words to ./data/general_assembly_docs/statements/monday-2-july-2018-10-am_Fiji.txt\n",
      "Writing 557 words to ./data/general_assembly_docs/statements/monday-2-july-2018-10-am_Gabon.txt\n",
      "Writing 552 words to ./data/general_assembly_docs/statements/monday-2-july-2018-10-am_Palau.txt\n",
      "Writing 584 words to ./data/general_assembly_docs/statements/monday-2-july-2018-10-am_Mauritius.txt\n",
      "Writing 281 words to ./data/general_assembly_docs/statements/monday-2-july-2018-10-am_Pakistan.txt\n",
      "Writing 94 words to ./data/general_assembly_docs/statements/monday-2-july-2018-10-am_India.txt\n",
      "Writing 586 words to ./data/general_assembly_docs/statements/thursday-27-june-2019-3-pm_Chile.txt\n",
      "Writing 582 words to ./data/general_assembly_docs/statements/thursday-27-june-2019-3-pm_Switzerland.txt\n",
      "Writing 743 words to ./data/general_assembly_docs/statements/thursday-27-june-2019-3-pm_Republic-of-Korea.txt\n",
      "Writing 794 words to ./data/general_assembly_docs/statements/thursday-27-june-2019-3-pm_Poland.txt\n",
      "Writing 1094 words to ./data/general_assembly_docs/statements/thursday-27-june-2019-3-pm_United-Kingdom.txt\n",
      "Writing 909 words to ./data/general_assembly_docs/statements/thursday-27-june-2019-3-pm_Germany.txt\n",
      "Writing 483 words to ./data/general_assembly_docs/statements/thursday-27-june-2019-3-pm_Armenia.txt\n",
      "Writing 888 words to ./data/general_assembly_docs/statements/thursday-27-june-2019-3-pm_Ireland.txt\n",
      "Writing 529 words to ./data/general_assembly_docs/statements/thursday-27-june-2019-3-pm_Myanmar.txt\n",
      "Writing 617 words to ./data/general_assembly_docs/statements/thursday-27-june-2019-3-pm_Liechtenstein.txt\n",
      "Writing 753 words to ./data/general_assembly_docs/statements/thursday-27-june-2019-3-pm_Uruguay.txt\n",
      "Writing 550 words to ./data/general_assembly_docs/statements/thursday-27-june-2019-3-pm_China.txt\n",
      "Writing 572 words to ./data/general_assembly_docs/statements/thursday-27-june-2019-3-pm_Canada.txt\n",
      "Writing 1005 words to ./data/general_assembly_docs/statements/thursday-27-june-2019-3-pm_Philippines.txt\n",
      "Writing 555 words to ./data/general_assembly_docs/statements/thursday-27-june-2019-3-pm_Czech-Republic.txt\n",
      "Writing 639 words to ./data/general_assembly_docs/statements/thursday-27-june-2019-3-pm_Luxembourg.txt\n",
      "Writing 818 words to ./data/general_assembly_docs/statements/thursday-27-june-2019-3-pm_Côte-d’Ivoire.txt\n",
      "Writing 508 words to ./data/general_assembly_docs/statements/thursday-27-june-2019-3-pm_Honduras.txt\n",
      "Writing 697 words to ./data/general_assembly_docs/statements/thursday-27-june-2019-3-pm_Hungary.txt\n",
      "Writing 397 words to ./data/general_assembly_docs/statements/thursday-27-june-2019-3-pm_Democratic-People’s-Republic-of-Korea.txt\n",
      "Writing 748 words to ./data/general_assembly_docs/statements/thursday-27-june-2019-3-pm_Ghana.txt\n",
      "Writing 836 words to ./data/general_assembly_docs/statements/thursday-27-june-2019-3-pm_Sudan.txt\n",
      "Writing 1075 words to ./data/general_assembly_docs/statements/thursday-27-june-2019-3-pm_Belgium.txt\n",
      "Writing 767 words to ./data/general_assembly_docs/statements/thursday-27-june-2019-3-pm_Netherlands.txt\n",
      "Writing 777 words to ./data/general_assembly_docs/statements/thursday-27-june-2019-3-pm_Qatar.txt\n",
      "Writing 700 words to ./data/general_assembly_docs/statements/thursday-27-june-2019-3-pm_Andorra.txt\n",
      "Writing 794 words to ./data/general_assembly_docs/statements/thursday-27-june-2019-3-pm_Turkey.txt\n",
      "Writing 542 words to ./data/general_assembly_docs/statements/thursday-27-june-2019-3-pm_Malta.txt\n",
      "Writing 769 words to ./data/general_assembly_docs/statements/thursday-27-june-2019-3-pm_Albania.txt\n",
      "Writing 583 words to ./data/general_assembly_docs/statements/thursday-27-june-2019-3-pm_Portugal.txt\n",
      "Writing 1258 words to ./data/general_assembly_docs/statements/thursday-27-june-2019-3-pm_Bangladesh.txt\n",
      "Writing 661 words to ./data/general_assembly_docs/statements/thursday-27-june-2019-3-pm_Morocco.txt\n",
      "Writing 1455 words to ./data/general_assembly_docs/statements/monday-25-june-2018-10-am_Qatar.txt\n",
      "Writing 1255 words to ./data/general_assembly_docs/statements/monday-25-june-2018-10-am_European-Union.txt\n",
      "Writing 529 words to ./data/general_assembly_docs/statements/monday-25-june-2018-10-am_Kiribati.txt\n",
      "Writing 826 words to ./data/general_assembly_docs/statements/monday-25-june-2018-10-am_Latvia.txt\n",
      "Writing 710 words to ./data/general_assembly_docs/statements/monday-25-june-2018-10-am_Australia.txt\n",
      "Writing 680 words to ./data/general_assembly_docs/statements/monday-25-june-2018-10-am_Ghana.txt\n",
      "Writing 449 words to ./data/general_assembly_docs/statements/monday-25-june-2018-10-am_Gabon.txt\n",
      "Writing 1133 words to ./data/general_assembly_docs/statements/monday-25-june-2018-10-am_United-Kingdom.txt\n",
      "Writing 1114 words to ./data/general_assembly_docs/statements/monday-25-june-2018-10-am_India.txt\n",
      "Writing 952 words to ./data/general_assembly_docs/statements/monday-25-june-2018-10-am_Brazil.txt\n",
      "Writing 1258 words to ./data/general_assembly_docs/statements/monday-25-june-2018-10-am_United-States-of-America.txt\n",
      "Writing 911 words to ./data/general_assembly_docs/statements/monday-25-june-2018-10-am_Croatia.txt\n",
      "Writing 935 words to ./data/general_assembly_docs/statements/monday-25-june-2018-10-am_Spain.txt\n",
      "Writing 882 words to ./data/general_assembly_docs/statements/monday-25-june-2018-10-am_Netherlands.txt\n",
      "Writing 1015 words to ./data/general_assembly_docs/statements/monday-25-june-2018-10-am_Slovenia.txt\n",
      "Writing 695 words to ./data/general_assembly_docs/statements/monday-25-june-2018-10-am_Costa-Rica.txt\n",
      "Writing 663 words to ./data/general_assembly_docs/statements/monday-25-june-2018-10-am_Slovakia.txt\n",
      "Writing 625 words to ./data/general_assembly_docs/statements/monday-25-june-2018-10-am_Japan.txt\n",
      "Writing 1056 words to ./data/general_assembly_docs/statements/monday-25-june-2018-10-am_Denmark.txt\n",
      "Writing 1042 words to ./data/general_assembly_docs/statements/monday-25-june-2018-10-am_Mexico.txt\n",
      "Writing 735 words to ./data/general_assembly_docs/statements/monday-25-june-2018-10-am_Morocco.txt\n",
      "Writing 1267 words to ./data/general_assembly_docs/statements/thursday-27-june-2019-10-am_Denmark.txt\n",
      "Writing 1174 words to ./data/general_assembly_docs/statements/thursday-27-june-2019-10-am_European-Union.txt\n",
      "Writing 935 words to ./data/general_assembly_docs/statements/thursday-27-june-2019-10-am_Mexico.txt\n",
      "Writing 649 words to ./data/general_assembly_docs/statements/thursday-27-june-2019-10-am_Norway.txt\n",
      "Writing 517 words to ./data/general_assembly_docs/statements/thursday-27-june-2019-10-am_Marshal-Islands.txt\n",
      "Writing 1059 words to ./data/general_assembly_docs/statements/thursday-27-june-2019-10-am_Latvia.txt\n",
      "Writing 616 words to ./data/general_assembly_docs/statements/thursday-27-june-2019-10-am_Australia.txt\n",
      "Writing 1227 words to ./data/general_assembly_docs/statements/thursday-27-june-2019-10-am_Costa-Rica.txt\n",
      "Writing 590 words to ./data/general_assembly_docs/statements/thursday-27-june-2019-10-am_Guatemala.txt\n",
      "Writing 1088 words to ./data/general_assembly_docs/statements/thursday-27-june-2019-10-am_Slovenia.txt\n",
      "Writing 735 words to ./data/general_assembly_docs/statements/thursday-27-june-2019-10-am_Italy.txt\n",
      "Writing 914 words to ./data/general_assembly_docs/statements/thursday-27-june-2019-10-am_Pakistan.txt\n",
      "Writing 655 words to ./data/general_assembly_docs/statements/thursday-27-june-2019-10-am_Spain.txt\n",
      "Writing 813 words to ./data/general_assembly_docs/statements/thursday-27-june-2019-10-am_Brazil.txt\n",
      "Writing 529 words to ./data/general_assembly_docs/statements/thursday-27-june-2019-10-am_Slovakia.txt\n",
      "Writing 589 words to ./data/general_assembly_docs/statements/thursday-27-june-2019-10-am_United-Arab-Emirates.txt\n",
      "Writing 732 words to ./data/general_assembly_docs/statements/thursday-27-june-2019-10-am_Rwanda.txt\n",
      "Writing 586 words to ./data/general_assembly_docs/statements/thursday-27-june-2019-10-am_Fiji.txt\n",
      "Writing 716 words to ./data/general_assembly_docs/statements/thursday-27-june-2019-10-am_Croatia.txt\n",
      "Writing 727 words to ./data/general_assembly_docs/statements/thursday-27-june-2019-10-am_Bolivarian-Republic-of-Venezuela.txt\n",
      "Writing 615 words to ./data/general_assembly_docs/statements/thursday-27-june-2019-10-am_Japan.txt\n",
      "Writing 1632 words to ./data/general_assembly_docs/statements/thursday-27-june-2019-10-am_Syrian-Arab-Republic.txt\n",
      "Writing 605 words to ./data/general_assembly_docs/statements/thursday-27-june-2019-10-am_Romania.txt\n",
      "Writing 1368 words to ./data/general_assembly_docs/statements/friday-28-june-2019-10-am_Egypt.txt\n",
      "Writing 637 words to ./data/general_assembly_docs/statements/friday-28-june-2019-10-am_Russian-Federation.txt\n",
      "Writing 1066 words to ./data/general_assembly_docs/statements/friday-28-june-2019-10-am_Romania.txt\n",
      "Writing 861 words to ./data/general_assembly_docs/statements/friday-28-june-2019-10-am_Singapore.txt\n",
      "Writing 616 words to ./data/general_assembly_docs/statements/friday-28-june-2019-10-am_Saudi-Arabia.txt\n",
      "Writing 351 words to ./data/general_assembly_docs/statements/friday-28-june-2019-10-am_China.txt\n",
      "Writing 330 words to ./data/general_assembly_docs/statements/friday-28-june-2019-10-am_Japan.txt\n",
      "Writing 723 words to ./data/general_assembly_docs/statements/friday-28-june-2019-10-am_Jamaica.txt\n",
      "Writing 303 words to ./data/general_assembly_docs/statements/friday-28-june-2019-10-am_Sudan.txt\n",
      "Writing 92 words to ./data/general_assembly_docs/statements/friday-28-june-2019-10-am_United-States-of-America.txt\n",
      "Writing 473 words to ./data/general_assembly_docs/statements/friday-28-june-2019-10-am_Indonesia.txt\n",
      "Writing 217 words to ./data/general_assembly_docs/statements/friday-28-june-2019-10-am_Yemen.txt\n",
      "Writing 636 words to ./data/general_assembly_docs/statements/friday-28-june-2019-10-am_Iraq.txt\n",
      "Writing 211 words to ./data/general_assembly_docs/statements/friday-28-june-2019-10-am_Malaysia.txt\n",
      "Writing 453 words to ./data/general_assembly_docs/statements/friday-28-june-2019-10-am_Pakistan.txt\n",
      "Writing 346 words to ./data/general_assembly_docs/statements/friday-28-june-2019-10-am_Libya.txt\n",
      "Writing 1058 words to ./data/general_assembly_docs/statements/friday-28-june-2019-10-am_Israel.txt\n",
      "Writing 387 words to ./data/general_assembly_docs/statements/friday-28-june-2019-10-am_India.txt\n",
      "Writing 268 words to ./data/general_assembly_docs/statements/friday-28-june-2019-10-am_Algeria.txt\n",
      "Writing 426 words to ./data/general_assembly_docs/statements/friday-28-june-2019-10-am_Viet-Nam.txt\n",
      "Writing 135 words to ./data/general_assembly_docs/statements/friday-28-june-2019-10-am_Myanmar.txt\n",
      "Writing 213 words to ./data/general_assembly_docs/statements/friday-28-june-2019-10-am_Mongolia.txt\n",
      "Writing 342 words to ./data/general_assembly_docs/statements/friday-28-june-2019-10-am_Australia.txt\n",
      "Writing 705 words to ./data/general_assembly_docs/statements/friday-28-june-2019-10-am_Argentina.txt\n",
      "Writing 404 words to ./data/general_assembly_docs/statements/friday-28-june-2019-10-am_Cabo-Verde.txt\n",
      "Writing 531 words to ./data/general_assembly_docs/statements/friday-28-june-2019-10-am_Afghanistan.txt\n",
      "Writing 1063 words to ./data/general_assembly_docs/statements/friday-28-june-2019-10-am_Syrian-Arab-Republic.txt\n",
      "Writing 262 words to ./data/general_assembly_docs/statements/friday-28-june-2019-10-am_Spain.txt\n",
      "Writing 1269 words to ./data/general_assembly_docs/statements/friday-28-june-2019-10-am_South-Africa.txt\n",
      "Writing 881 words to ./data/general_assembly_docs/statements/friday-28-june-2019-10-am_Islamic-Republic-of-Iran.txt\n",
      "Writing 691 words to ./data/general_assembly_docs/statements/friday-28-june-2019-10-am_Georgia.txt\n",
      "Writing 746 words to ./data/general_assembly_docs/statements/friday-28-june-2019-10-am_Cuba.txt\n",
      "Writing 868 words to ./data/general_assembly_docs/statements/friday-28-june-2019-10-am_Togo.txt\n",
      "Writing 914 words to ./data/general_assembly_docs/statements/friday-28-june-2019-3-pm_Egypt.txt\n",
      "Writing 876 words to ./data/general_assembly_docs/statements/friday-28-june-2019-3-pm_Ecuador.txt\n",
      "Writing 548 words to ./data/general_assembly_docs/statements/friday-28-june-2019-3-pm_Peru.txt\n",
      "Writing 590 words to ./data/general_assembly_docs/statements/friday-28-june-2019-3-pm_United-States-of-America.txt\n",
      "Writing 547 words to ./data/general_assembly_docs/statements/friday-28-june-2019-3-pm_Indonesia.txt\n",
      "Writing 651 words to ./data/general_assembly_docs/statements/friday-28-june-2019-3-pm_Colombia.txt\n",
      "Writing 900 words to ./data/general_assembly_docs/statements/friday-28-june-2019-3-pm_Ukraine.txt\n",
      "Writing 469 words to ./data/general_assembly_docs/statements/friday-28-june-2019-3-pm_Russian-Federation.txt\n",
      "Writing 762 words to ./data/general_assembly_docs/statements/friday-28-june-2019-3-pm_Nigeria.txt\n",
      "Writing 980 words to ./data/general_assembly_docs/statements/monday-25-june-2018-3-pm_Germany.txt\n",
      "Writing 824 words to ./data/general_assembly_docs/statements/monday-25-june-2018-3-pm_Uruguay.txt\n",
      "Writing 1720 words to ./data/general_assembly_docs/statements/monday-25-june-2018-3-pm_Syrian-Arab-Republic.txt\n",
      "Writing 596 words to ./data/general_assembly_docs/statements/monday-25-june-2018-3-pm_Peru.txt\n",
      "Writing 991 words to ./data/general_assembly_docs/statements/monday-25-june-2018-3-pm_Italy.txt\n",
      "Writing 784 words to ./data/general_assembly_docs/statements/monday-25-june-2018-3-pm_Liechtenstein.txt\n",
      "Writing 677 words to ./data/general_assembly_docs/statements/monday-25-june-2018-3-pm_Hungary.txt\n",
      "Writing 657 words to ./data/general_assembly_docs/statements/monday-25-june-2018-3-pm_Czech-Republic.txt\n",
      "Writing 517 words to ./data/general_assembly_docs/statements/monday-25-june-2018-3-pm_Switzerland.txt\n",
      "Writing 715 words to ./data/general_assembly_docs/statements/monday-25-june-2018-3-pm_Cuba.txt\n",
      "Writing 589 words to ./data/general_assembly_docs/statements/monday-25-june-2018-3-pm_Turkey.txt\n",
      "Writing 769 words to ./data/general_assembly_docs/statements/monday-25-june-2018-3-pm_Sudan.txt\n",
      "Writing 734 words to ./data/general_assembly_docs/statements/monday-25-june-2018-3-pm_France.txt\n",
      "Writing 118 words to ./data/general_assembly_docs/statements/monday-25-june-2018-3-pm_Vanuatu.txt\n",
      "Writing 559 words to ./data/general_assembly_docs/statements/monday-25-june-2018-3-pm_Argentina.txt\n",
      "Writing 861 words to ./data/general_assembly_docs/statements/monday-25-june-2018-3-pm_Pakistan.txt\n",
      "Writing 903 words to ./data/general_assembly_docs/statements/monday-25-june-2018-3-pm_Israel.txt\n",
      "Writing 853 words to ./data/general_assembly_docs/statements/monday-25-june-2018-3-pm_South-Africa.txt\n",
      "Writing 299 words to ./data/general_assembly_docs/statements/monday-25-june-2018-3-pm_Sweden.txt\n",
      "Writing 753 words to ./data/general_assembly_docs/statements/monday-25-june-2018-3-pm_Canada.txt\n",
      "Writing 385 words to ./data/general_assembly_docs/statements/monday-25-june-2018-3-pm_Finland.txt\n",
      "Writing 1040 words to ./data/general_assembly_docs/statements/monday-25-june-2018-3-pm_Ireland.txt\n",
      "Writing 853 words to ./data/general_assembly_docs/statements/monday-25-june-2018-3-pm_Singapore.txt\n",
      "Writing 535 words to ./data/general_assembly_docs/statements/monday-25-june-2018-3-pm_Poland.txt\n",
      "Writing 755 words to ./data/general_assembly_docs/statements/monday-25-june-2018-3-pm_Republic-of-Korea.txt\n",
      "Writing 721 words to ./data/general_assembly_docs/statements/monday-25-june-2018-3-pm_Malaysia.txt\n",
      "Writing 725 words to ./data/general_assembly_docs/statements/monday-25-june-2018-3-pm_Guatemala.txt\n",
      "Writing 1093 words to ./data/general_assembly_docs/statements/monday-25-june-2018-3-pm_Nigeria.txt\n",
      "Writing 727 words to ./data/general_assembly_docs/statements/monday-25-june-2018-3-pm_Egypt.txt\n",
      "Writing 1039 words to ./data/general_assembly_docs/statements/monday-25-june-2018-3-pm_Belgium.txt\n",
      "Writing 101 words to ./data/general_assembly_docs/statements/monday-25-june-2018-3-pm_India.txt\n"
     ]
    }
   ],
   "source": [
    "for filename in os.listdir(TXT_DIR):\n",
    "    date_str = file_to_date[filename]\n",
    "    for country, statement in files_to_statements[filename].items():\n",
    "        country_str = \"-\".join(country.strip().split())\n",
    "        dest_filepath = os.path.join(STATEMENTS_DIR, f\"{date_str}_{country_str}.txt\")\n",
    "        print(f\"Writing {len(statement.split())} words to {dest_filepath}\")\n",
    "        with open(dest_filepath, \"w\") as fp:\n",
    "            fp.write(statement)"
   ]
  }
 ],
 "metadata": {
  "kernelspec": {
   "display_name": "Python 3",
   "language": "python",
   "name": "python3"
  },
  "language_info": {
   "codemirror_mode": {
    "name": "ipython",
    "version": 3
   },
   "file_extension": ".py",
   "mimetype": "text/x-python",
   "name": "python",
   "nbconvert_exporter": "python",
   "pygments_lexer": "ipython3",
   "version": "3.7.3"
  }
 },
 "nbformat": 4,
 "nbformat_minor": 2
}
