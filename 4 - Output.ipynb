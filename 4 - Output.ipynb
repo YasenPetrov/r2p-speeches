{
 "cells": [
  {
   "cell_type": "code",
   "execution_count": 1,
   "metadata": {},
   "outputs": [],
   "source": [
    "import os\n",
    "import shutil\n",
    "\n",
    "import pandas as pd"
   ]
  },
  {
   "cell_type": "markdown",
   "metadata": {},
   "source": [
    "## Setup directories"
   ]
  },
  {
   "cell_type": "code",
   "execution_count": 2,
   "metadata": {},
   "outputs": [],
   "source": [
    "MAIN_DIR = \".\"\n",
    "DATA_DIR = os.path.join(MAIN_DIR, \"data\")\n",
    "\n",
    "# Where we will store data from all sources after combining it\n",
    "ALL_DATA_DIR = os.path.join(DATA_DIR, \"combined\")\n",
    "# This will hold the converted versions of the PDF documents\n",
    "SPLIT_TEXT_FILES_DIR = os.path.join(ALL_DATA_DIR, \"text_files_split\")\n",
    "# This will hold everything related to translating text, including the results of the translations\n",
    "TRANSLATIONS_DIR = os.path.join(ALL_DATA_DIR, \"translations\")\n",
    "\n",
    "TRANSLATIONS_TEXT_DIR = os.path.join(TRANSLATIONS_DIR, \"texts\")\n",
    "\n",
    "OUTPUT_DIR = os.path.join(ALL_DATA_DIR, \"output\")\n",
    "if os.path.exists(OUTPUT_DIR):\n",
    "    shutil.rmtree(OUTPUT_DIR)\n",
    "os.makedirs(OUTPUT_DIR)"
   ]
  },
  {
   "cell_type": "markdown",
   "metadata": {},
   "source": [
    "## Paragraph delimiter\n",
    "\n",
    "This is the string which divides paragraphs in our texts"
   ]
  },
  {
   "cell_type": "code",
   "execution_count": 3,
   "metadata": {},
   "outputs": [],
   "source": [
    "paragraph_delimiter = \"\\n\\n\" + \"=\" * 20 + \"\\n\\n\""
   ]
  },
  {
   "cell_type": "markdown",
   "metadata": {},
   "source": [
    "## Read in metadata"
   ]
  },
  {
   "cell_type": "code",
   "execution_count": 4,
   "metadata": {},
   "outputs": [
    {
     "data": {
      "text/html": [
       "<div>\n",
       "<style scoped>\n",
       "    .dataframe tbody tr th:only-of-type {\n",
       "        vertical-align: middle;\n",
       "    }\n",
       "\n",
       "    .dataframe tbody tr th {\n",
       "        vertical-align: top;\n",
       "    }\n",
       "\n",
       "    .dataframe thead th {\n",
       "        text-align: right;\n",
       "    }\n",
       "</style>\n",
       "<table border=\"1\" class=\"dataframe\">\n",
       "  <thead>\n",
       "    <tr style=\"text-align: right;\">\n",
       "      <th></th>\n",
       "      <th>Title</th>\n",
       "      <th>Type</th>\n",
       "      <th>Date</th>\n",
       "      <th>Source</th>\n",
       "      <th>link</th>\n",
       "    </tr>\n",
       "    <tr>\n",
       "      <th>id</th>\n",
       "      <th></th>\n",
       "      <th></th>\n",
       "      <th></th>\n",
       "      <th></th>\n",
       "      <th></th>\n",
       "    </tr>\n",
       "  </thead>\n",
       "  <tbody>\n",
       "    <tr>\n",
       "      <th>0</th>\n",
       "      <td>Accountability for Perpetrators: UN Officials ...</td>\n",
       "      <td>Official Statement</td>\n",
       "      <td>2019-11-07</td>\n",
       "      <td>UN Special Representative of the Secretary-Gen...</td>\n",
       "      <td>https://www.globalr2p.org/wp-content/uploads/2...</td>\n",
       "    </tr>\n",
       "  </tbody>\n",
       "</table>\n",
       "</div>"
      ],
      "text/plain": [
       "                                                Title                Type  \\\n",
       "id                                                                          \n",
       "0   Accountability for Perpetrators: UN Officials ...  Official Statement   \n",
       "\n",
       "         Date                                             Source  \\\n",
       "id                                                                 \n",
       "0  2019-11-07  UN Special Representative of the Secretary-Gen...   \n",
       "\n",
       "                                                 link  \n",
       "id                                                     \n",
       "0   https://www.globalr2p.org/wp-content/uploads/2...  "
      ]
     },
     "execution_count": 4,
     "metadata": {},
     "output_type": "execute_result"
    }
   ],
   "source": [
    "df_speeches = pd.read_csv(os.path.join(ALL_DATA_DIR, \"document_data.csv\"), index_col=\"id\")\n",
    "df_speeches.Date = pd.to_datetime(df_speeches[\"Date\"])\n",
    "df_speeches.head(1)"
   ]
  },
  {
   "cell_type": "markdown",
   "metadata": {},
   "source": [
    "## Read in paragraphs"
   ]
  },
  {
   "cell_type": "code",
   "execution_count": 5,
   "metadata": {},
   "outputs": [],
   "source": [
    "par_list = []\n",
    "for i, filename in enumerate(os.listdir(TRANSLATIONS_TEXT_DIR)):\n",
    "    with open(os.path.join(TRANSLATIONS_TEXT_DIR, filename), \"r\") as fp:\n",
    "        text = fp.read()\n",
    "\n",
    "    paragraphs = list(text.split(paragraph_delimiter))\n",
    "    for j, paragraph in enumerate(paragraphs):\n",
    "        par_list.append({\n",
    "            \"id\": int(filename.split(\".\")[0]),\n",
    "            \"paragraph\": j,\n",
    "            \"text\": paragraph\n",
    "        })\n",
    "df_paragraphs = pd.DataFrame(par_list).pivot(index=\"id\", columns=\"paragraph\", values=\"text\")\n",
    "\n",
    "df_char_lens = df_paragraphs.applymap(lambda x: len(x) if not pd.isna(x) else float(\"nan\"))\n",
    "df_word_lens = df_paragraphs.applymap(lambda x: len(x.split()) if not pd.isna(x) else float(\"nan\"))\n",
    "\n",
    "par_counts = df_paragraphs.shape[1] - df_paragraphs.isna().sum(axis=1)"
   ]
  },
  {
   "cell_type": "markdown",
   "metadata": {},
   "source": [
    "## Join paragraphs"
   ]
  },
  {
   "cell_type": "code",
   "execution_count": 6,
   "metadata": {},
   "outputs": [],
   "source": [
    "MIN_CHAR_COUNT = 50\n",
    "MIN_WORD_COUNT = 10\n",
    "\n",
    "out_separator = \".\\n\\n\"\n",
    "out_sep_replacement = \"\\n\"\n",
    "\n",
    "def join_paragraphs(paragraphs):\n",
    "    return out_separator.join([\n",
    "        p.replace(out_separator, out_sep_replacement) for p in paragraphs\n",
    "        if len(p) >= MIN_CHAR_COUNT and len(p.split()) >= MIN_WORD_COUNT\n",
    "    ])\n",
    "\n",
    "df_speeches[\"text\"] = df_paragraphs.apply(lambda ps: join_paragraphs(ps.dropna()), axis=1)"
   ]
  },
  {
   "cell_type": "markdown",
   "metadata": {},
   "source": [
    "## Merge texts"
   ]
  },
  {
   "cell_type": "code",
   "execution_count": 7,
   "metadata": {},
   "outputs": [],
   "source": [
    "final_docs = df_speeches.groupby([df_speeches.Date.dt.year, df_speeches.Source])[\"text\"].apply(\n",
    "    lambda texts: out_separator.join([t for t in texts if not pd.isna(t)])\n",
    ")"
   ]
  },
  {
   "cell_type": "markdown",
   "metadata": {},
   "source": [
    "## Save texts"
   ]
  },
  {
   "cell_type": "code",
   "execution_count": 8,
   "metadata": {},
   "outputs": [],
   "source": [
    "for (year, actor), text in final_docs.iteritems():\n",
    "    year_dir = os.path.join(OUTPUT_DIR, str(year))\n",
    "    out_file = os.path.join(year_dir, f\"{actor}.txt\")\n",
    "    if not os.path.exists(year_dir):\n",
    "        os.makedirs(year_dir)\n",
    "    \n",
    "    with open(out_file, \"w\") as fp:\n",
    "        fp.write(text)"
   ]
  }
 ],
 "metadata": {
  "kernelspec": {
   "display_name": "Python 3",
   "language": "python",
   "name": "python3"
  },
  "language_info": {
   "codemirror_mode": {
    "name": "ipython",
    "version": 3
   },
   "file_extension": ".py",
   "mimetype": "text/x-python",
   "name": "python",
   "nbconvert_exporter": "python",
   "pygments_lexer": "ipython3",
   "version": "3.7.4"
  }
 },
 "nbformat": 4,
 "nbformat_minor": 2
}
