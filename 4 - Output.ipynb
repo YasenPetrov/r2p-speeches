{
 "cells": [
  {
   "cell_type": "code",
   "execution_count": 1,
   "metadata": {},
   "outputs": [],
   "source": [
    "import os\n",
    "import shutil\n",
    "\n",
    "import pandas as pd"
   ]
  },
  {
   "cell_type": "markdown",
   "metadata": {},
   "source": [
    "## Setup directories"
   ]
  },
  {
   "cell_type": "code",
   "execution_count": 2,
   "metadata": {},
   "outputs": [],
   "source": [
    "MAIN_DIR = \".\"\n",
    "DATA_DIR = os.path.join(MAIN_DIR, \"data\")\n",
    "\n",
    "# Where we will store data from all sources after combining it\n",
    "ALL_DATA_DIR = os.path.join(DATA_DIR, \"combined\")\n",
    "# This will hold the converted versions of the PDF documents\n",
    "SPLIT_TEXT_FILES_DIR = os.path.join(ALL_DATA_DIR, \"text_files_split\")\n",
    "# This will hold everything related to translating text, including the results of the translations\n",
    "TRANSLATIONS_DIR = os.path.join(ALL_DATA_DIR, \"translations\")\n",
    "\n",
    "TRANSLATIONS_TEXT_DIR = os.path.join(TRANSLATIONS_DIR, \"texts\")\n",
    "\n",
    "OUTPUT_DIR = os.path.join(ALL_DATA_DIR, \"output\")\n",
    "if os.path.exists(OUTPUT_DIR):\n",
    "    shutil.rmtree(OUTPUT_DIR)\n",
    "os.makedirs(OUTPUT_DIR)"
   ]
  },
  {
   "cell_type": "markdown",
   "metadata": {},
   "source": [
    "## Paragraph delimiter\n",
    "\n",
    "This is the string which divides paragraphs in our texts"
   ]
  },
  {
   "cell_type": "code",
   "execution_count": 3,
   "metadata": {},
   "outputs": [],
   "source": [
    "paragraph_delimiter = \"\\n\\n\" + \"=\" * 20 + \"\\n\\n\""
   ]
  },
  {
   "cell_type": "markdown",
   "metadata": {},
   "source": [
    "## Read in metadata"
   ]
  },
  {
   "cell_type": "code",
   "execution_count": 4,
   "metadata": {},
   "outputs": [
    {
     "data": {
      "text/html": [
       "<div>\n",
       "<style scoped>\n",
       "    .dataframe tbody tr th:only-of-type {\n",
       "        vertical-align: middle;\n",
       "    }\n",
       "\n",
       "    .dataframe tbody tr th {\n",
       "        vertical-align: top;\n",
       "    }\n",
       "\n",
       "    .dataframe thead th {\n",
       "        text-align: right;\n",
       "    }\n",
       "</style>\n",
       "<table border=\"1\" class=\"dataframe\">\n",
       "  <thead>\n",
       "    <tr style=\"text-align: right;\">\n",
       "      <th></th>\n",
       "      <th>Title</th>\n",
       "      <th>Type</th>\n",
       "      <th>Date</th>\n",
       "      <th>Source</th>\n",
       "      <th>link</th>\n",
       "      <th>scanned</th>\n",
       "    </tr>\n",
       "    <tr>\n",
       "      <th>id</th>\n",
       "      <th></th>\n",
       "      <th></th>\n",
       "      <th></th>\n",
       "      <th></th>\n",
       "      <th></th>\n",
       "      <th></th>\n",
       "    </tr>\n",
       "  </thead>\n",
       "  <tbody>\n",
       "    <tr>\n",
       "      <th>0</th>\n",
       "      <td>Accountability for Perpetrators: UN Officials ...</td>\n",
       "      <td>Official Statement</td>\n",
       "      <td>2019-11-07</td>\n",
       "      <td>UN Special Representative of the Secretary-Gen...</td>\n",
       "      <td>https://www.globalr2p.org/wp-content/uploads/2...</td>\n",
       "      <td>False</td>\n",
       "    </tr>\n",
       "  </tbody>\n",
       "</table>\n",
       "</div>"
      ],
      "text/plain": [
       "                                                Title                Type  \\\n",
       "id                                                                          \n",
       "0   Accountability for Perpetrators: UN Officials ...  Official Statement   \n",
       "\n",
       "         Date                                             Source  \\\n",
       "id                                                                 \n",
       "0  2019-11-07  UN Special Representative of the Secretary-Gen...   \n",
       "\n",
       "                                                 link  scanned  \n",
       "id                                                              \n",
       "0   https://www.globalr2p.org/wp-content/uploads/2...    False  "
      ]
     },
     "execution_count": 4,
     "metadata": {},
     "output_type": "execute_result"
    }
   ],
   "source": [
    "df_speeches = pd.read_csv(os.path.join(ALL_DATA_DIR, \"document_data.csv\"), index_col=\"id\")\n",
    "df_speeches.Date = pd.to_datetime(df_speeches[\"Date\"])\n",
    "df_speeches.head(1)"
   ]
  },
  {
   "cell_type": "markdown",
   "metadata": {},
   "source": [
    "## Clean unwanted files"
   ]
  },
  {
   "cell_type": "code",
   "execution_count": 5,
   "metadata": {},
   "outputs": [],
   "source": [
    "# Load pre-filled list with unwanted documents\n",
    "keep = pd.read_csv(os.path.join(DATA_DIR, \"drop_it_like_its_hot.csv\"), index_col=\"id\")\n",
    "df_speeches = df_speeches.join(keep)\n",
    "\n",
    "# For some years, we only want speeches from some dates\n",
    "keep_dates = {\n",
    "    2014: [\"2014-09-08\"],\n",
    "    2015: [\"2015-09-08\"],\n",
    "    2016: [\"2016-09-06\", \"2016-09-07\"],\n",
    "    2017: [\"2017-09-06\", \"2017-09-07\"],\n",
    "}\n",
    "for year, dates in keep_dates.items():\n",
    "    df_speeches.loc[(df_speeches[\"Date\"].dt.year == year) & ~df_speeches[\"Date\"].isin(dates), \"to_keep\"] = False\n",
    "    \n",
    "\n",
    "# For 2018, 2019, we do not want speeches scraped from GR2P. We can recognize them from their non-null \"link\"\n",
    "df_speeches.loc[df_speeches[\"Date\"].dt.year.isin([2018, 2019]) & ~df_speeches[\"link\"].isna(), \"to_keep\"] = False\n",
    "\n",
    "# Correction: wrong date\n",
    "df_speeches.loc[135, \"Date\"] = pd.Timestamp(2017, 9, 6)\n",
    "\n",
    "# Other documents with various problems which we do not want included\n",
    "bad_ids = [\n",
    "    532, # (weird encoding)\n",
    "    534, # (cannot be rec by LD)\n",
    "    479, # (tilted?)\n",
    "    470, # (just bad)\n",
    "    518, # (Turkish, not scanned but broken)\n",
    "]\n",
    "\n",
    "df_speeches.loc[bad_ids, \"to_keep\"] = False"
   ]
  },
  {
   "cell_type": "markdown",
   "metadata": {},
   "source": [
    "### Record the IDs we have left"
   ]
  },
  {
   "cell_type": "code",
   "execution_count": 6,
   "metadata": {},
   "outputs": [],
   "source": [
    "ids_to_keep = df_speeches[df_speeches[\"to_keep\"]].index"
   ]
  },
  {
   "cell_type": "markdown",
   "metadata": {},
   "source": [
    "## Read in paragraphs"
   ]
  },
  {
   "cell_type": "code",
   "execution_count": 7,
   "metadata": {},
   "outputs": [],
   "source": [
    "par_list = []\n",
    "for i, filename in enumerate(os.listdir(TRANSLATIONS_TEXT_DIR)):\n",
    "    with open(os.path.join(TRANSLATIONS_TEXT_DIR, filename), \"r\") as fp:\n",
    "        text = fp.read()\n",
    "\n",
    "    paragraphs = list(text.split(paragraph_delimiter))\n",
    "    for j, paragraph in enumerate(paragraphs):\n",
    "        par_list.append({\n",
    "            \"id\": int(filename.split(\".\")[0]),\n",
    "            \"paragraph\": j,\n",
    "            \"text\": paragraph\n",
    "        })\n",
    "df_paragraphs = pd.DataFrame(par_list).sort_values(by=[\"id\", \"paragraph\"])\n",
    "\n",
    "df_paragraphs[\"n_chars\"] = df_paragraphs.text.str.len()\n",
    "df_paragraphs[\"n_tokens\"] = df_paragraphs.text.str.split().apply(len)"
   ]
  },
  {
   "cell_type": "markdown",
   "metadata": {},
   "source": [
    "### Filter paragraphs\n",
    "\n",
    "Only leave the ones from documents we care about"
   ]
  },
  {
   "cell_type": "code",
   "execution_count": 8,
   "metadata": {},
   "outputs": [],
   "source": [
    "df_paragraphs = df_paragraphs[df_paragraphs[\"id\"].isin(ids_to_keep)]"
   ]
  },
  {
   "cell_type": "markdown",
   "metadata": {},
   "source": [
    "## Clean text"
   ]
  },
  {
   "cell_type": "code",
   "execution_count": 9,
   "metadata": {},
   "outputs": [],
   "source": [
    "df_paragraphs[\"clean\"] = df_paragraphs.text.str.replace(r\"\\n+\\t*\\s*\\n\", \"\\n\")\n",
    "df_paragraphs[\"clean\"] = df_paragraphs[\"clean\"].str.replace(\"[^\\w]|[0-9]\", \" \").str.replace(\n",
    "    \"\\s+\", \" \"\n",
    ").str.lower().str.strip()\n",
    "\n",
    "df_paragraphs[\"n_chars_clean\"] = df_paragraphs.clean.str.len()\n",
    "df_paragraphs[\"n_tokens_clean\"] = df_paragraphs.clean.str.split().apply(len)"
   ]
  },
  {
   "cell_type": "markdown",
   "metadata": {},
   "source": [
    "### Join small paragraphs\n",
    "\n",
    "Merge every paragraph which is under X token with the next one"
   ]
  },
  {
   "cell_type": "code",
   "execution_count": 10,
   "metadata": {},
   "outputs": [
    {
     "name": "stdout",
     "output_type": "stream",
     "text": [
      "CPU times: user 11.3 s, sys: 10.3 ms, total: 11.4 s\n",
      "Wall time: 11.3 s\n"
     ]
    }
   ],
   "source": [
    "%%time\n",
    "min_paragraph_tokens = 100\n",
    "\n",
    "for doc_id in set(df_paragraphs[\"id\"]):\n",
    "    docs = df_paragraphs[df_paragraphs[\"id\"] == doc_id].sort_values(by=\"paragraph\")\n",
    "    \n",
    "    # Attach an ID to each paragraph, later join all paragraphs with the same ID\n",
    "    joined_id = 0\n",
    "    # Keep the number of tokens in the current joined chunk\n",
    "    run_tokens = 0\n",
    "    \n",
    "    # How many paragraphs in this doc\n",
    "    n_paragraphs = len(docs)\n",
    "    \n",
    "    for par_id, n_tokens in enumerate(docs[\"n_tokens_clean\"]):\n",
    "        # If the last paragraph is small, join it with the previous one\n",
    "        if par_id == n_paragraphs - 1:\n",
    "            if n_tokens < min_paragraph_tokens and joined_id > 0:\n",
    "                joined_id -= 1\n",
    "        \n",
    "        df_paragraphs.loc[\n",
    "            (df_paragraphs[\"id\"] == doc_id) & (df_paragraphs[\"paragraph\"] == par_id), \"joined_id\"\n",
    "        ] = int(joined_id)\n",
    "        \n",
    "        run_tokens += n_tokens\n",
    "        # If the resulting paragraph is bigger than the minimal tokens, move on to joining a new one\n",
    "        if run_tokens >= min_paragraph_tokens:\n",
    "            joined_id += 1\n",
    "            run_tokens = 0"
   ]
  },
  {
   "cell_type": "code",
   "execution_count": 11,
   "metadata": {},
   "outputs": [],
   "source": [
    "df_joined = df_paragraphs.groupby([\"id\", \"joined_id\"])[[\"text\"]].sum().reset_index()\n",
    "df_joined[\"text\"] = df_joined[\"text\"].str.replace(r\"\\n+\\t*\\s*\\n\", \"\\n\")\n",
    "df_joined[\"n_tokens\"] = df_joined.text.str.split().apply(len)\n",
    "df_joined[\"n_chars\"] = df_joined.text.str.len()\n",
    "\n",
    "df_joined.rename(columns={\"joined_id\": \"paragraph\"}, inplace=True)"
   ]
  },
  {
   "cell_type": "code",
   "execution_count": 12,
   "metadata": {},
   "outputs": [
    {
     "data": {
      "image/png": "[encoded data removed]",
      "text/plain": [
       "<Figure size 648x180 with 1 Axes>"
      ]
     },
     "metadata": {
      "needs_background": "light"
     },
     "output_type": "display_data"
    },
    {
     "data": {
      "image/png": "[encoded data removed]",
      "text/plain": [
       "<Figure size 648x288 with 2 Axes>"
      ]
     },
     "metadata": {
      "needs_background": "light"
     },
     "output_type": "display_data"
    }
   ],
   "source": [
    "import matplotlib.pyplot as plt\n",
    "\n",
    "par_counts = df_joined.groupby(\"id\")[\"paragraph\"].count()\n",
    "\n",
    "%matplotlib inline\n",
    "par_counts.value_counts().sort_index().plot.bar(figsize=(9,2.5))\n",
    "plt.grid(alpha=0.3)\n",
    "plt.title(\"Paragraph counts\")\n",
    "plt.tight_layout()\n",
    "\n",
    "fig, axs = plt.subplots(2,1, figsize=(9, 4))\n",
    "\n",
    "df_joined[\"n_tokens\"].hist(bins=100, ax=axs[0], label=\"Tokens\")\n",
    "df_joined[\"n_chars\"].hist(bins=100, ax=axs[1], color=\"darkorange\", label=\"Characters\")\n",
    "\n",
    "for ax in axs:\n",
    "    ax.legend()\n",
    "    ax.set_ylabel(\"Number of documents\")\n",
    "plt.suptitle(\"Token and character distributions\")\n",
    "plt.tight_layout()"
   ]
  },
  {
   "cell_type": "markdown",
   "metadata": {},
   "source": [
    "## Join paragraphs"
   ]
  },
  {
   "cell_type": "code",
   "execution_count": 13,
   "metadata": {},
   "outputs": [],
   "source": [
    "out_separator = \".\\n\\n\""
   ]
  },
  {
   "cell_type": "code",
   "execution_count": 15,
   "metadata": {},
   "outputs": [],
   "source": [
    "final_texts = df_joined.groupby(\"id\")[\"text\"].apply(lambda paragraphs: out_separator.join(paragraphs).strip())\n",
    "\n",
    "final_speeches = df_speeches[df_speeches[\"to_keep\"]]\n",
    "\n",
    "final_speeches.loc[:, \"text\"] = final_texts\n",
    "final_speeches = final_speeches[~final_speeches[\"text\"].isna()]"
   ]
  },
  {
   "cell_type": "markdown",
   "metadata": {},
   "source": [
    "## Merge texts"
   ]
  },
  {
   "cell_type": "code",
   "execution_count": 16,
   "metadata": {},
   "outputs": [],
   "source": [
    "final_docs = final_speeches.groupby([final_speeches.Date.dt.year, final_speeches.Source])[\"text\"].apply(\n",
    "    lambda texts: out_separator.join([t for t in texts if not pd.isna(t)])\n",
    ")"
   ]
  },
  {
   "cell_type": "markdown",
   "metadata": {},
   "source": [
    "## Save texts"
   ]
  },
  {
   "cell_type": "code",
   "execution_count": 17,
   "metadata": {},
   "outputs": [],
   "source": [
    "for (year, actor), text in final_docs.iteritems():\n",
    "    year_dir = os.path.join(OUTPUT_DIR, str(year))\n",
    "    out_file = os.path.join(year_dir, f\"{actor}.txt\")\n",
    "    if not os.path.exists(year_dir):\n",
    "        os.makedirs(year_dir)\n",
    "    \n",
    "    with open(out_file, \"w\") as fp:\n",
    "        fp.write(text)"
   ]
  }
 ],
 "metadata": {
  "kernelspec": {
   "display_name": "Python 3",
   "language": "python",
   "name": "python3"
  },
  "language_info": {
   "codemirror_mode": {
    "name": "ipython",
    "version": 3
   },
   "file_extension": ".py",
   "mimetype": "text/x-python",
   "name": "python",
   "nbconvert_exporter": "python",
   "pygments_lexer": "ipython3",
   "version": "3.7.4"
  }
 },
 "nbformat": 4,
 "nbformat_minor": 2
}
